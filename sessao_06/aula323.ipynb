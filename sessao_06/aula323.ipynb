{
 "cells": [
  {
   "cell_type": "markdown",
   "metadata": {},
   "source": [
    "# Aula 323 - Jupyter Notebook - Exemplos\n",
    "\n",
    "Você pode criar parágrafos simplesmente escrevendo o texto como preferir.\n",
    "\n",
    "Para códigos <code>&#96;</code> antes e <code>&#96;</code> depois para códigos de uma linha, e <code>&#96;&#96;&#96;</code> antes e <code>&#96;&#96;&#96;</code> depois para códigos de várias linhas. \n",
    "\n",
    "**Exemplo de uma linha:** `print(123)`.\n",
    "\n",
    "**Exemplo de várias linhas:**\n",
    "\n",
    "```python\n",
    "lista = [\n",
    "    {'nome': 'Luiz', 'sobrenome': 'miranda'},\n",
    "    {'nome': 'Maria', 'sobrenome': 'Oliveira'},\n",
    "    {'nome': 'Daniel', 'sobrenome': 'Silva'},\n",
    "    {'nome': 'Eduardo', 'sobrenome': 'Moreira'},\n",
    "    {'nome': 'Aline', 'sobrenome': 'Souza'},\n",
    "\n",
    "]\n",
    "```\n",
    "\n",
    "## Negrito e itálico\n",
    "\n",
    "* \\** e \\** - **Negrito**\n",
    "* \\* e \\* - *Itálico*\n",
    "\n",
    "# Blockquote\n",
    "\n",
    "Responder as perguntas dos coleguinhas, pode te ajudar a aprender muito mais.\n",
    "\n",
    "> If you can't explain it simply, you don't understand it well enough.\n",
    "> Albert Einstein\n",
    "\n",
    "## Listas\n",
    "\n",
    "Aqui uma lista ordenada:\n",
    "\n",
    "1. Albert Einstein\n",
    "2. Carl Sagan\n",
    "3. Guido van Rossum\n",
    "\n",
    "Aqui está uma lista não ordenada:\n",
    "\n",
    "- Albert Einstein\n",
    "- Carl Sagan\n",
    "- Guido van Rossum\n",
    "\n",
    "## Imagem e links\n",
    "\n",
    "Olha só:\n",
    "\n",
    "![A logo do Python](https://upload.wikimedia.org/wikipedia/commons/c/c3/Python-logo-notext.svg)\n",
    "\n",
    "A imagem acima está [neste link](https://upload.wikimedia.org/wikipedia/commons/c/c3/Python-logo-notext.svg).\n",
    "\n",
    "## Tabela\n",
    "\n",
    "Abaixo uma tabela HTML:\n",
    "\n",
    "| Aqui temos uma tabela | Com mais uma coluna |\n",
    "|-----------------------|---------------------|\n",
    "| Aqui temos uma linha  | Outra coluna        |\n",
    "| Aqui temos uma linha  | Outra coluna        |\n",
    "| Aqui temos uma linha  | Outra coluna        |\n",
    "| Coluna                | Outra               |\n",
    "\n",
    "## Abaixo uma linha horizontal\n",
    "\n",
    "a\n",
    "\n",
    "---\n",
    "\n",
    "b\n",
    "\n",
    "## HTML puro\n",
    "\n",
    "<div style=\"padding: 30px; margin: 10px; background: #ccc;\">\n",
    "<p>Aqui vemos um &lt;p&gt;. Você pode usar qualquer tag HTML normal.</p>\n",
    "</div>\n"
   ]
  },
  {
   "cell_type": "markdown",
   "metadata": {},
   "source": [
    "# Renderizando HTML"
   ]
  },
  {
   "cell_type": "code",
   "execution_count": 1,
   "metadata": {},
   "outputs": [
    {
     "data": {
      "text/html": [
       "<span style=\"color: red;\">\n",
       "<b>ISSO É UM HTML</b><br/>\n",
       "Este texto deve estar vermelho.\n",
       "</span>\n"
      ],
      "text/plain": [
       "<IPython.core.display.HTML object>"
      ]
     },
     "metadata": {},
     "output_type": "display_data"
    }
   ],
   "source": [
    "%%HTML\n",
    "<span style=\"color: red;\">\n",
    "<b>ISSO É UM HTML</b><br/>\n",
    "Este texto deve estar vermelho.\n",
    "</span>"
   ]
  },
  {
   "cell_type": "code",
   "execution_count": 4,
   "metadata": {},
   "outputs": [
    {
     "data": {
      "text/html": [
       "<h1>Vídeo do youtube</h1>\n",
       "<iframe width=\"560\", height=\"315\" src=\"https://www.youtube.com/embed/T17BTNKBeJY\" frameborder=\"2\" style=\"border-color:red;\"></iframe>\n"
      ],
      "text/plain": [
       "<IPython.core.display.HTML object>"
      ]
     },
     "metadata": {},
     "output_type": "display_data"
    }
   ],
   "source": [
    "%%HTML\n",
    "<h1>Vídeo do youtube</h1>\n",
    "<iframe width=\"560\", height=\"315\" src=\"https://www.youtube.com/embed/T17BTNKBeJY\" frameborder=\"2\" style=\"border-color:red;\"></iframe>"
   ]
  },
  {
   "cell_type": "markdown",
   "metadata": {},
   "source": [
    "# Gráficos com matplotlib"
   ]
  },
  {
   "cell_type": "markdown",
   "metadata": {},
   "source": [
    "Um exemplo de USO do módulo `matplotlib`\n",
    "\n",
    "Primeiro vamos instalar o módulo usando `!` antes do comando"
   ]
  },
  {
   "cell_type": "code",
   "execution_count": null,
   "metadata": {},
   "outputs": [],
   "source": [
    "!pip install matplotlib"
   ]
  },
  {
   "cell_type": "code",
   "execution_count": 13,
   "metadata": {},
   "outputs": [
    {
     "data": {
      "image/png": "[encoded data removed]",
      "text/plain": [
       "<Figure size 640x480 with 1 Axes>"
      ]
     },
     "metadata": {},
     "output_type": "display_data"
    }
   ],
   "source": [
    "import matplotlib.pyplot as plt\n",
    "\n",
    "fig, ax = plt.subplots()\n",
    "\n",
    "fruits = ['apple', 'blueberry', 'cherry', 'orange']\n",
    "counts = [40, 100, 30, 55]\n",
    "bar_labels = ['red', 'blue', '_red', 'orange']\n",
    "bar_colors = ['tab:red', 'tab:blue', 'tab:red', 'tab:orange']\n",
    "\n",
    "ax.bar(fruits, counts, label=bar_labels, color=bar_colors)\n",
    "\n",
    "ax.set_ylabel('fruit supply')\n",
    "ax.set_title('Fruit supply by kind and color')\n",
    "ax.legend(title='Fruit color')\n",
    "\n",
    "plt.show()"
   ]
  },
  {
   "cell_type": "markdown",
   "metadata": {},
   "source": [
    "# Comandos no seu computador"
   ]
  },
  {
   "cell_type": "markdown",
   "metadata": {},
   "source": [
    "Use o `!` para comandos do seu computador."
   ]
  },
  {
   "cell_type": "code",
   "execution_count": 15,
   "metadata": {},
   "outputs": [
    {
     "name": "stdout",
     "output_type": "stream",
     "text": [
      "\n",
      "Disparando 8.8.8.8 com 32 bytes de dados:\n",
      "Resposta de 8.8.8.8: bytes=32 tempo=24ms TTL=56\n",
      "Resposta de 8.8.8.8: bytes=32 tempo=24ms TTL=56\n",
      "Resposta de 8.8.8.8: bytes=32 tempo=24ms TTL=56\n",
      "Resposta de 8.8.8.8: bytes=32 tempo=23ms TTL=56\n",
      "\n",
      "Estat¡sticas do Ping para 8.8.8.8:\n",
      "    Pacotes: Enviados = 4, Recebidos = 4, Perdidos = 0 (0% de\n",
      "             perda),\n",
      "Aproximar um n£mero redondo de vezes em milissegundos:\n",
      "    M¡nimo = 23ms, M ximo = 24ms, M‚dia = 23ms\n"
     ]
    }
   ],
   "source": [
    "!ping 8.8.8.8"
   ]
  },
  {
   "cell_type": "markdown",
   "metadata": {},
   "source": [
    "# timeit"
   ]
  },
  {
   "cell_type": "markdown",
   "metadata": {},
   "source": [
    "Você pode ver quanto tempo levou para realiza alguma operação com `%%timeit`."
   ]
  },
  {
   "cell_type": "code",
   "execution_count": 17,
   "metadata": {},
   "outputs": [
    {
     "name": "stdout",
     "output_type": "stream",
     "text": [
      "709 ms ± 36.5 ms per loop (mean ± std. dev. of 7 runs, 1 loop each)\n"
     ]
    }
   ],
   "source": [
    "%%timeit\n",
    "lista = [x * 2 for x in range(10000000)]"
   ]
  },
  {
   "cell_type": "markdown",
   "metadata": {},
   "source": [
    "# Exibindo Pandas Dataframe"
   ]
  },
  {
   "cell_type": "code",
   "execution_count": null,
   "metadata": {},
   "outputs": [],
   "source": [
    "!pip install numpy\n",
    "!pip install pandas"
   ]
  },
  {
   "cell_type": "code",
   "execution_count": 19,
   "metadata": {},
   "outputs": [
    {
     "data": {
      "text/html": [
       "<div>\n",
       "<style scoped>\n",
       "    .dataframe tbody tr th:only-of-type {\n",
       "        vertical-align: middle;\n",
       "    }\n",
       "\n",
       "    .dataframe tbody tr th {\n",
       "        vertical-align: top;\n",
       "    }\n",
       "\n",
       "    .dataframe thead th {\n",
       "        text-align: right;\n",
       "    }\n",
       "</style>\n",
       "<table border=\"1\" class=\"dataframe\">\n",
       "  <thead>\n",
       "    <tr style=\"text-align: right;\">\n",
       "      <th></th>\n",
       "      <th>0</th>\n",
       "      <th>1</th>\n",
       "      <th>2</th>\n",
       "      <th>3</th>\n",
       "      <th>4</th>\n",
       "    </tr>\n",
       "  </thead>\n",
       "  <tbody>\n",
       "    <tr>\n",
       "      <th>0</th>\n",
       "      <td>-0.869869</td>\n",
       "      <td>-0.812572</td>\n",
       "      <td>0.164510</td>\n",
       "      <td>1.086253</td>\n",
       "      <td>0.354602</td>\n",
       "    </tr>\n",
       "    <tr>\n",
       "      <th>1</th>\n",
       "      <td>0.342517</td>\n",
       "      <td>2.153323</td>\n",
       "      <td>-0.739299</td>\n",
       "      <td>1.087644</td>\n",
       "      <td>0.733349</td>\n",
       "    </tr>\n",
       "    <tr>\n",
       "      <th>2</th>\n",
       "      <td>0.780328</td>\n",
       "      <td>0.412067</td>\n",
       "      <td>-0.265653</td>\n",
       "      <td>0.887536</td>\n",
       "      <td>0.910883</td>\n",
       "    </tr>\n",
       "    <tr>\n",
       "      <th>3</th>\n",
       "      <td>-0.160005</td>\n",
       "      <td>-0.071445</td>\n",
       "      <td>-0.878815</td>\n",
       "      <td>0.112629</td>\n",
       "      <td>-1.023073</td>\n",
       "    </tr>\n",
       "    <tr>\n",
       "      <th>4</th>\n",
       "      <td>-0.074778</td>\n",
       "      <td>-0.578005</td>\n",
       "      <td>1.080291</td>\n",
       "      <td>3.082336</td>\n",
       "      <td>0.196254</td>\n",
       "    </tr>\n",
       "    <tr>\n",
       "      <th>5</th>\n",
       "      <td>-0.554953</td>\n",
       "      <td>-0.591495</td>\n",
       "      <td>-1.275852</td>\n",
       "      <td>1.329764</td>\n",
       "      <td>-0.251133</td>\n",
       "    </tr>\n",
       "    <tr>\n",
       "      <th>6</th>\n",
       "      <td>-0.988637</td>\n",
       "      <td>0.954021</td>\n",
       "      <td>-0.488930</td>\n",
       "      <td>0.333971</td>\n",
       "      <td>1.527313</td>\n",
       "    </tr>\n",
       "    <tr>\n",
       "      <th>7</th>\n",
       "      <td>0.569564</td>\n",
       "      <td>-2.830846</td>\n",
       "      <td>-0.524022</td>\n",
       "      <td>1.032550</td>\n",
       "      <td>-0.337359</td>\n",
       "    </tr>\n",
       "    <tr>\n",
       "      <th>8</th>\n",
       "      <td>1.135111</td>\n",
       "      <td>0.185897</td>\n",
       "      <td>-0.135671</td>\n",
       "      <td>0.063674</td>\n",
       "      <td>-1.177257</td>\n",
       "    </tr>\n",
       "    <tr>\n",
       "      <th>9</th>\n",
       "      <td>-0.172511</td>\n",
       "      <td>-0.612480</td>\n",
       "      <td>-0.923481</td>\n",
       "      <td>-2.088199</td>\n",
       "      <td>0.625904</td>\n",
       "    </tr>\n",
       "    <tr>\n",
       "      <th>10</th>\n",
       "      <td>-0.430007</td>\n",
       "      <td>1.868113</td>\n",
       "      <td>0.642377</td>\n",
       "      <td>-1.289390</td>\n",
       "      <td>-0.583689</td>\n",
       "    </tr>\n",
       "    <tr>\n",
       "      <th>11</th>\n",
       "      <td>0.083301</td>\n",
       "      <td>0.127681</td>\n",
       "      <td>-1.231408</td>\n",
       "      <td>3.130729</td>\n",
       "      <td>0.339965</td>\n",
       "    </tr>\n",
       "    <tr>\n",
       "      <th>12</th>\n",
       "      <td>-1.163405</td>\n",
       "      <td>-0.307476</td>\n",
       "      <td>-0.570343</td>\n",
       "      <td>-1.241104</td>\n",
       "      <td>-0.693981</td>\n",
       "    </tr>\n",
       "    <tr>\n",
       "      <th>13</th>\n",
       "      <td>-1.088315</td>\n",
       "      <td>-1.623425</td>\n",
       "      <td>-0.747474</td>\n",
       "      <td>0.557131</td>\n",
       "      <td>0.924422</td>\n",
       "    </tr>\n",
       "    <tr>\n",
       "      <th>14</th>\n",
       "      <td>-0.761112</td>\n",
       "      <td>1.437936</td>\n",
       "      <td>0.895190</td>\n",
       "      <td>-0.409467</td>\n",
       "      <td>-1.051884</td>\n",
       "    </tr>\n",
       "    <tr>\n",
       "      <th>15</th>\n",
       "      <td>1.292268</td>\n",
       "      <td>0.378006</td>\n",
       "      <td>0.960466</td>\n",
       "      <td>1.183740</td>\n",
       "      <td>0.283644</td>\n",
       "    </tr>\n",
       "    <tr>\n",
       "      <th>16</th>\n",
       "      <td>-0.842642</td>\n",
       "      <td>0.610766</td>\n",
       "      <td>-0.445692</td>\n",
       "      <td>-0.467665</td>\n",
       "      <td>-0.573160</td>\n",
       "    </tr>\n",
       "    <tr>\n",
       "      <th>17</th>\n",
       "      <td>1.834650</td>\n",
       "      <td>0.778103</td>\n",
       "      <td>-0.267755</td>\n",
       "      <td>1.182855</td>\n",
       "      <td>0.821117</td>\n",
       "    </tr>\n",
       "  </tbody>\n",
       "</table>\n",
       "</div>"
      ],
      "text/plain": [
       "           0         1         2         3         4\n",
       "0  -0.869869 -0.812572  0.164510  1.086253  0.354602\n",
       "1   0.342517  2.153323 -0.739299  1.087644  0.733349\n",
       "2   0.780328  0.412067 -0.265653  0.887536  0.910883\n",
       "3  -0.160005 -0.071445 -0.878815  0.112629 -1.023073\n",
       "4  -0.074778 -0.578005  1.080291  3.082336  0.196254\n",
       "5  -0.554953 -0.591495 -1.275852  1.329764 -0.251133\n",
       "6  -0.988637  0.954021 -0.488930  0.333971  1.527313\n",
       "7   0.569564 -2.830846 -0.524022  1.032550 -0.337359\n",
       "8   1.135111  0.185897 -0.135671  0.063674 -1.177257\n",
       "9  -0.172511 -0.612480 -0.923481 -2.088199  0.625904\n",
       "10 -0.430007  1.868113  0.642377 -1.289390 -0.583689\n",
       "11  0.083301  0.127681 -1.231408  3.130729  0.339965\n",
       "12 -1.163405 -0.307476 -0.570343 -1.241104 -0.693981\n",
       "13 -1.088315 -1.623425 -0.747474  0.557131  0.924422\n",
       "14 -0.761112  1.437936  0.895190 -0.409467 -1.051884\n",
       "15  1.292268  0.378006  0.960466  1.183740  0.283644\n",
       "16 -0.842642  0.610766 -0.445692 -0.467665 -0.573160\n",
       "17  1.834650  0.778103 -0.267755  1.182855  0.821117"
      ]
     },
     "execution_count": 19,
     "metadata": {},
     "output_type": "execute_result"
    }
   ],
   "source": [
    "import pandas as pd\n",
    "import numpy as np\n",
    "\n",
    "df = pd.DataFrame(np.random.randn(18,5))\n",
    "df"
   ]
  },
  {
   "cell_type": "code",
   "execution_count": null,
   "metadata": {},
   "outputs": [],
   "source": []
  }
 ],
 "metadata": {
  "kernelspec": {
   "display_name": "Python 3 (ipykernel)",
   "language": "python",
   "name": "python3"
  },
  "language_info": {
   "codemirror_mode": {
    "name": "ipython",
    "version": 3
   },
   "file_extension": ".py",
   "mimetype": "text/x-python",
   "name": "python",
   "nbconvert_exporter": "python",
   "pygments_lexer": "ipython3",
   "version": "3.12.2"
  }
 },
 "nbformat": 4,
 "nbformat_minor": 4
}
