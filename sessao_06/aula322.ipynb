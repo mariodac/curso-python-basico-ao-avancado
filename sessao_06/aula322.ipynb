{
 "cells": [
  {
   "cell_type": "markdown",
   "id": "cac597fe-f7ef-4e22-9a0b-273f3138dee4",
   "metadata": {},
   "source": [
    "# Aula 322\n",
    "\n",
    "Essa linha uma variável `a`."
   ]
  },
  {
   "cell_type": "code",
   "execution_count": 6,
   "id": "657f9f5a-0d55-4cde-97d9-431b4e8d125b",
   "metadata": {},
   "outputs": [],
   "source": [
    "a = 2"
   ]
  },
  {
   "cell_type": "code",
   "execution_count": 7,
   "id": "0c878ea0-4ab2-4430-a997-5860473fa26d",
   "metadata": {},
   "outputs": [
    {
     "data": {
      "text/plain": [
       "2"
      ]
     },
     "execution_count": 7,
     "metadata": {},
     "output_type": "execute_result"
    }
   ],
   "source": [
    "a"
   ]
  },
  {
   "cell_type": "markdown",
   "id": "a2283eaa-acde-4a97-ade8-29fe2e554d40",
   "metadata": {},
   "source": [
    "Essa linha tem o valor da variável `a` em dobro"
   ]
  },
  {
   "cell_type": "code",
   "execution_count": 8,
   "id": "047e4c1b-bc8e-4b6e-b4d2-98b9928688ca",
   "metadata": {},
   "outputs": [
    {
     "data": {
      "text/plain": [
       "4"
      ]
     },
     "execution_count": 8,
     "metadata": {},
     "output_type": "execute_result"
    }
   ],
   "source": [
    "b = a * 2\n",
    "b"
   ]
  },
  {
   "cell_type": "code",
   "execution_count": null,
   "id": "689154ed-dfa3-4138-b8ff-a84c03f0324b",
   "metadata": {},
   "outputs": [],
   "source": []
  }
 ],
 "metadata": {
  "kernelspec": {
   "display_name": "Python 3 (ipykernel)",
   "language": "python",
   "name": "python3"
  },
  "language_info": {
   "codemirror_mode": {
    "name": "ipython",
    "version": 3
   },
   "file_extension": ".py",
   "mimetype": "text/x-python",
   "name": "python",
   "nbconvert_exporter": "python",
   "pygments_lexer": "ipython3",
   "version": "3.12.2"
  }
 },
 "nbformat": 4,
 "nbformat_minor": 5
}
